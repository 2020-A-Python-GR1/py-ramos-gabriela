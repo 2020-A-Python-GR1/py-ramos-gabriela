{
 "cells": [
  {
   "cell_type": "code",
   "execution_count": 4,
   "metadata": {},
   "outputs": [
    {
     "name": "stdout",
     "output_type": "stream",
     "text": [
      "Hola mundo\n"
     ]
    },
    {
     "data": {
      "text/plain": [
       "NoneType"
      ]
     },
     "execution_count": 4,
     "metadata": {},
     "output_type": "execute_result"
    }
   ],
   "source": [
    "# Funciones\n",
    "def hola_mundo(): # None\n",
    "    print(\"Hola mundo\")\n",
    "type(hola_mundo())"
   ]
  },
  {
   "cell_type": "code",
   "execution_count": 5,
   "metadata": {},
   "outputs": [
    {
     "name": "stdout",
     "output_type": "stream",
     "text": [
      "La suma de 2 y 3 es igual a 5\n"
     ]
    }
   ],
   "source": [
    "def sumar_dos_numeros(num_uno, num_dos): # parametros requeridos\n",
    "    return num_uno + num_dos\n",
    "# print(sumar_dos_numeros(2,3))\n",
    "total_suma = sumar_dos_numeros(2,3)\n",
    "print(f\"La suma de 2 y 3 es igual a {total_suma}\")"
   ]
  },
  {
   "cell_type": "code",
   "execution_count": 6,
   "metadata": {},
   "outputs": [
    {
     "name": "stdout",
     "output_type": "stream",
     "text": [
      "Universidad: EPN\n",
      "Universidad: ESPE\n"
     ]
    }
   ],
   "source": [
    "def imprimir_universidad(nombre = \"EPN\"): # Parametros Opcionales\n",
    "    print(f\"Universidad: {nombre}\")       # Parametros por defecto\n",
    "imprimir_universidad()\n",
    "imprimir_universidad(\"ESPE\")"
   ]
  },
  {
   "cell_type": "code",
   "execution_count": 8,
   "metadata": {},
   "outputs": [
    {
     "name": "stdout",
     "output_type": "stream",
     "text": [
      "Color: Blanco\n",
      "Placa: ABC-1234\n",
      "Horse Power: 3000\n",
      "Año: 1989\n"
     ]
    }
   ],
   "source": [
    "# REGLA: 1) Parametros Requeridos\n",
    "#        2) Parametros Opcionales\n",
    "def imprimir_carro(color, placa, hp, anio = 1989):\n",
    "    print(f\"Color: {color}\")\n",
    "    print(f\"Placa: {placa}\")\n",
    "    print(f\"Horse Power: {hp}\")\n",
    "    print(f\"Año: {anio}\")\n",
    "imprimir_carro(\"Blanco\", \"ABC-1234\", 3000)"
   ]
  },
  {
   "cell_type": "code",
   "execution_count": 9,
   "metadata": {},
   "outputs": [
    {
     "name": "stdout",
     "output_type": "stream",
     "text": [
      "Color: Blanco\n",
      "Placa: DEF-456\n",
      "Horse Power: 2500\n",
      "Año: 1998\n"
     ]
    }
   ],
   "source": [
    "# Named Parameters (Parametros Nombrados)\n",
    "imprimir_carro(anio = 1998, \n",
    "               placa = \"DEF-456\", \n",
    "               hp = 2500, \n",
    "               color = \"Blanco\")"
   ]
  },
  {
   "cell_type": "code",
   "execution_count": 11,
   "metadata": {},
   "outputs": [
    {
     "data": {
      "text/plain": [
       "48"
      ]
     },
     "execution_count": 11,
     "metadata": {},
     "output_type": "execute_result"
    }
   ],
   "source": [
    "def sumar_numeros(primer_numero,\n",
    "                 *numeros):  # Parametros Infinitos\n",
    "    suma = primer_numero\n",
    "    for numero in numeros:\n",
    "        suma = suma + numero\n",
    "    return suma\n",
    "sumar_numeros(1,2,1,2,3,4,5,6,7,8,9)"
   ]
  },
  {
   "cell_type": "code",
   "execution_count": 12,
   "metadata": {},
   "outputs": [
    {
     "name": "stdout",
     "output_type": "stream",
     "text": [
      "{'saludo': 'hola', 'mensaje': 'mundo'}\n",
      "<class 'dict'>\n"
     ]
    }
   ],
   "source": [
    "def establecer_configuracion(**kwargs): # Key Word Arguments\n",
    "    print(kwargs)                       # Parametros Nombrados\n",
    "    print(type(kwargs))\n",
    "establecer_configuracion(saludo = \"hola\", mensaje = \"mundo\")"
   ]
  },
  {
   "cell_type": "code",
   "execution_count": null,
   "metadata": {},
   "outputs": [],
   "source": [
    "# Reglas\n",
    "def ejemplo(requerido_uno, \n",
    "           requerido_dos,\n",
    "           opcional_uno = 1,\n",
    "           opcional_dos = 2,\n",
    "           *infinitos,\n",
    "           **kwargs):\n",
    "    print(\":)\")"
   ]
  },
  {
   "cell_type": "code",
   "execution_count": null,
   "metadata": {},
   "outputs": [],
   "source": []
  },
  {
   "cell_type": "code",
   "execution_count": null,
   "metadata": {},
   "outputs": [],
   "source": []
  }
 ],
 "metadata": {
  "kernelspec": {
   "display_name": "Python 3",
   "language": "python",
   "name": "python3"
  },
  "language_info": {
   "codemirror_mode": {
    "name": "ipython",
    "version": 3
   },
   "file_extension": ".py",
   "mimetype": "text/x-python",
   "name": "python",
   "nbconvert_exporter": "python",
   "pygments_lexer": "ipython3",
   "version": "3.7.6"
  }
 },
 "nbformat": 4,
 "nbformat_minor": 4
}
