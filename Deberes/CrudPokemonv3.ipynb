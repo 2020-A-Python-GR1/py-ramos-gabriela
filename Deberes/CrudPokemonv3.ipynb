{
 "cells": [
  {
   "cell_type": "code",
   "execution_count": 8,
   "metadata": {},
   "outputs": [],
   "source": [
    "from dataclasses import dataclass\n",
    "from dataclasses_json import dataclass_json\n",
    "\n",
    "@dataclass_json\n",
    "@dataclass\n",
    "class EntrenadorEntity:\n",
    "    id: int\n",
    "    name: str\n",
    "    active: bool\n",
    "    distance: float\n",
    "    level: str\n",
    "    pokemon = []"
   ]
  },
  {
   "cell_type": "code",
   "execution_count": 9,
   "metadata": {},
   "outputs": [],
   "source": [
    "import json\n",
    "\n",
    "#from entrenador import EntrenadorEntity\n",
    "\n",
    "\n",
    "class Entrenador():\n",
    "\n",
    "    def __init__(self):\n",
    "        with open('C:/Users/gabyl/OneDrive/Documentos/GitHub-Repos/phyton/py-ramos-gabriela/Deberes/entrenadores2.json', 'r') as file:\n",
    "            self.entrenadores = json.load(file)\n",
    "\n",
    "    def create(self, entrenador: EntrenadorEntity):\n",
    "        self.entrenadores.append(entrenador.to_dict())\n",
    "\n",
    "    def update(self, id: int, entrenador: EntrenadorEntity):\n",
    "        entrenador.id = id\n",
    "        for i in range(0, len(self.entrenadores)):\n",
    "            if self.entrenadores[i]['id'] == id:\n",
    "                self.entrenadores[i] = entrenador.to_dict()\n",
    "                print('Updated!')\n",
    "                break\n",
    "\n",
    "    def find(self, id: int):\n",
    "        for entrenador in self.entrenadores:\n",
    "            if entrenador['id'] == id:\n",
    "               # print(entrenador)\n",
    "                return entrenador\n",
    "        return None\n",
    "\n",
    "    def delete(self, id: int):\n",
    "        entrenador = self.find(id)\n",
    "        if entrenador is not None:\n",
    "            self.entrenadores.remove(entrenador)\n",
    "            print('The element with id: ' + str(id) + ' was deleted')\n",
    "        else:\n",
    "            print('The element with id: ' + str(id) + ' wasn\\'t found')\n",
    "\n",
    "    def show_entrenadores(self):\n",
    "        return self.entrenadores\n",
    "\n",
    "    def save_data(self):\n",
    "        with open('C:/Users/gabyl/OneDrive/Documentos/GitHub-Repos/phyton/py-ramos-gabriela/Deberes/entrenadores2.json', 'w') as file:\n",
    "            json.dump(self.entrenadores, file)"
   ]
  },
  {
   "cell_type": "code",
   "execution_count": null,
   "metadata": {},
   "outputs": [],
   "source": [
    "#crear entrenador\n",
    "def crear_entrenador():\n",
    "    activo_nuevo = True\n",
    "    print(\"Ingrese id entrenador:\\n \")\n",
    "    id_entrenador_nuevo = int(input())\n",
    "    print(\"Ingrese nombre: \")\n",
    "    nombre_nuevo = input()\n",
    "\n",
    "    eleccion = int(input(\"Es un entrenador activo: si-->0 no-->1: \"))\n",
    "    if eleccion is 0:\n",
    "            active_nuevo = True\n",
    "          #  print(type(active_nuevo)) # str\n",
    "            print(\"true\")\n",
    "    elif eleccion is 1:\n",
    "            active_nuevo = False\n",
    "           # print(type(active_nuevo)) # str\n",
    "\n",
    "            print(\"false\")\n",
    "    else:\n",
    "            #Equivalente a 'default'\n",
    "            print(\"Ninguna opción válida seleccionada\")\n",
    "\n",
    "    print(\"Disntacia caminada: \")\n",
    "    distancia_caminada = input()\n",
    "    print(\"Ingrese Nivel: \")\n",
    "    level = input()\n",
    "\n",
    "    entrenador = EntrenadorEntity(id_entrenador_nuevo, nombre_nuevo, active_nuevo , distancia_caminada, level) ##creo el objeto para manipular\n",
    "   # entrenadores=Entrenador() #este es el que hace el crud\n",
    "    entrenadores.create(entrenador) # crea el objeto\n",
    "    entrenadores = entrenadores.save_data() #guarda los datos escribe el json"
   ]
  },
  {
   "cell_type": "code",
   "execution_count": 11,
   "metadata": {},
   "outputs": [],
   "source": [
    "#Buscar entrenador\n",
    "def buscar_entrenador():\n",
    "    print(\"Ingrese el id del entrenador a buscar: \")\n",
    "    id_entrenador =int( input())\n",
    "    entrenador_encontrado = Entrenador().find(2)\n",
    "    print(entrenador_encontrado)"
   ]
  },
  {
   "cell_type": "code",
   "execution_count": 15,
   "metadata": {},
   "outputs": [
    {
     "name": "stdout",
     "output_type": "stream",
     "text": [
      "Menu de funcionamiento\n",
      "1. Crear un entrenador\n",
      "2. Buscar un entrenador\n",
      "3. Actualizar un entrenador\n",
      "4. Eliminar un entrenador\n",
      "Seleccione una opción: 3\n",
      "Updated!\n"
     ]
    }
   ],
   "source": [
    "print('Menu de funcionamiento')\n",
    "print('1. Crear un entrenador')    \n",
    "print('2. Buscar un entrenador')\n",
    "print('3. Actualizar un entrenador')\n",
    "print('4. Eliminar un entrenador')\n",
    "opcion = int(input('Seleccione una opción: '))\n",
    "entrenadores = Entrenador()\n",
    "if opcion is 1:\n",
    "    crear_entrenador()\n",
    "elif opcion is 2:\n",
    "    buscar_entrenador()\n",
    "elif opcion is 3:\n",
    "    actualizar_entrenador()\n",
    "elif opcion is 4:\n",
    "    borrar_entrenador()\n",
    "else:\n",
    "    #Equivalente a 'default'\n",
    "    print(\"Ninguna opción válida seleccionada\")"
   ]
  },
  {
   "cell_type": "code",
   "execution_count": 14,
   "metadata": {
    "scrolled": false
   },
   "outputs": [],
   "source": [
    "#editar entrenador\n",
    "def actualizar_entrenador():\n",
    "    entrenador_actualizar = Entrenador().find(1)\n",
    "    entrenador = EntrenadorEntity.from_dict(entrenador_actualizar) ##hacemos el parse entre json y entity\n",
    "    entrenadores = Entrenador()\n",
    "    entrenador.name = 'Lolito'\n",
    "    entrenadores.update(1, entrenador)\n",
    "    entrenadores.save_data()"
   ]
  },
  {
   "cell_type": "code",
   "execution_count": null,
   "metadata": {},
   "outputs": [],
   "source": [
    "Entrenador().find(2)"
   ]
  },
  {
   "cell_type": "code",
   "execution_count": 17,
   "metadata": {},
   "outputs": [],
   "source": [
    "#borrar entrenador\n",
    "def borrar_entrenador():\n",
    "    entrenador_actualizar = Entrenador().find(1)\n",
    "    entrenador = EntrenadorEntity.from_dict(entrenador_actualizar) ##hacemos el parse entre json y entity\n",
    "    entrenadores = Entrenador()\n",
    "    entrenadores.delete(1)\n",
    "    entrenadores.save_data()"
   ]
  },
  {
   "cell_type": "code",
   "execution_count": 6,
   "metadata": {},
   "outputs": [
    {
     "name": "stdout",
     "output_type": "stream",
     "text": [
      "Ingrese el id del entrenador a buscar: \n",
      "2\n"
     ]
    },
    {
     "ename": "NameError",
     "evalue": "name 'Entrenador' is not defined",
     "output_type": "error",
     "traceback": [
      "\u001b[1;31m---------------------------------------------------------------------------\u001b[0m",
      "\u001b[1;31mNameError\u001b[0m                                 Traceback (most recent call last)",
      "\u001b[1;32m<ipython-input-6-6e4a135c71c2>\u001b[0m in \u001b[0;36m<module>\u001b[1;34m\u001b[0m\n\u001b[0;32m      1\u001b[0m \u001b[0mprint\u001b[0m\u001b[1;33m(\u001b[0m\u001b[1;34m\"Ingrese el id del entrenador a buscar: \"\u001b[0m\u001b[1;33m)\u001b[0m\u001b[1;33m\u001b[0m\u001b[1;33m\u001b[0m\u001b[0m\n\u001b[0;32m      2\u001b[0m \u001b[0mid_entrenador\u001b[0m \u001b[1;33m=\u001b[0m\u001b[0mint\u001b[0m\u001b[1;33m(\u001b[0m \u001b[0minput\u001b[0m\u001b[1;33m(\u001b[0m\u001b[1;33m)\u001b[0m\u001b[1;33m)\u001b[0m\u001b[1;33m\u001b[0m\u001b[1;33m\u001b[0m\u001b[0m\n\u001b[1;32m----> 3\u001b[1;33m \u001b[0mentrenador_encontrado\u001b[0m \u001b[1;33m=\u001b[0m \u001b[0mEntrenador\u001b[0m\u001b[1;33m(\u001b[0m\u001b[1;33m)\u001b[0m\u001b[1;33m.\u001b[0m\u001b[0mfind\u001b[0m\u001b[1;33m(\u001b[0m\u001b[0mid_entrenador\u001b[0m\u001b[1;33m)\u001b[0m\u001b[1;33m\u001b[0m\u001b[1;33m\u001b[0m\u001b[0m\n\u001b[0m\u001b[0;32m      4\u001b[0m \u001b[0mprint\u001b[0m\u001b[1;33m(\u001b[0m\u001b[0mentrenador_encontrado\u001b[0m\u001b[1;33m)\u001b[0m\u001b[1;33m\u001b[0m\u001b[1;33m\u001b[0m\u001b[0m\n",
      "\u001b[1;31mNameError\u001b[0m: name 'Entrenador' is not defined"
     ]
    }
   ],
   "source": [
    "print(\"Ingrese el id del entrenador a buscar: \")\n",
    "id_entrenador =int( input())\n",
    "entrenador_encontrado = Entrenador().find(id_entrenador)\n",
    "print(entrenador_encontrado)"
   ]
  },
  {
   "cell_type": "code",
   "execution_count": 18,
   "metadata": {},
   "outputs": [],
   "source": [
    "from dataclasses import dataclass\n",
    "from dataclasses_json import dataclass_json\n",
    "\n",
    "\n",
    "@dataclass_json ##decorador para manejar archivos\n",
    "@dataclass\n",
    "class PokemonEntity:\n",
    "    id: int\n",
    "    name: str\n",
    "    active: bool\n",
    "    type: str\n",
    "    level: int\n",
    "    id_trainer: int\n"
   ]
  },
  {
   "cell_type": "code",
   "execution_count": 19,
   "metadata": {},
   "outputs": [],
   "source": [
    "import json\n",
    "\n",
    "class Pokemon():\n",
    "\n",
    "    def __init__(self):\n",
    "        with open('C:/Users/gabyl/OneDrive/Documentos/GitHub-Repos/phyton/py-ramos-gabriela/Deberes/pokemones2.json', 'r') as file:\n",
    "            self.pokemones = json.load(file)\n",
    "\n",
    "    def create(self, pokemon: PokemonEntity):\n",
    "        self.pokemones.append(pokemon.to_dict())\n",
    "\n",
    "    def update(self, id: int, pokemon: PokemonEntity):\n",
    "        pokemon.id = id\n",
    "        for i in range(0, len(self.pokemones)):\n",
    "            if self.pokemones[i]['id'] == id:\n",
    "                self.pokemones[i] = pokemon.to_dict()\n",
    "                print('Updated!')\n",
    "                break\n",
    "\n",
    "    def find(self, id: int):\n",
    "        for pokemon in self.pokemones:\n",
    "            if pokemon['id'] == id:\n",
    "                return pokemon\n",
    "        return None\n",
    "\n",
    "    def find_all(self, id_trainer: int):\n",
    "        pokemones = []\n",
    "        for pokemon in self.pokemones:\n",
    "            if pokemon['id_trainer'] == id_trainer:\n",
    "                pokemones.append(pokemon)\n",
    "        return pokemones\n",
    "\n",
    "    def delete(self, id: int):\n",
    "        pokemon = self.find(id)\n",
    "        if pokemon is not None:\n",
    "            self.pokemones.remove(pokemon)\n",
    "            print('The element with id: ' + str(id) + ' was deleted')\n",
    "        else:\n",
    "            print('The element with id: ' + str(id) + ' wasn\\'t found')\n",
    "\n",
    "    def show_pokemones(self):\n",
    "        return self.pokemones\n",
    "\n",
    "    def save_data(self):\n",
    "        with open('C:/Users/gabyl/OneDrive/Documentos/GitHub-Repos/phyton/py-ramos-gabriela/Deberes/pokemones2.json', 'w') as file:\n",
    "            json.dump(self.pokemones, file)\n"
   ]
  },
  {
   "cell_type": "code",
   "execution_count": null,
   "metadata": {},
   "outputs": [],
   "source": [
    "pokemon = PokemonEntity(1, \"Pikachu\", True, 'electric', 23, 1)\n",
    "pokemon.id_trainer =2\n",
    "pokemones=Pokemon()\n",
    "pokemones.create(pokemon)\n",
    "pokemones.save_data()"
   ]
  },
  {
   "cell_type": "code",
   "execution_count": null,
   "metadata": {},
   "outputs": [],
   "source": []
  },
  {
   "cell_type": "code",
   "execution_count": 27,
   "metadata": {},
   "outputs": [
    {
     "name": "stdout",
     "output_type": "stream",
     "text": [
      "Ingrese id Pokemon:\n",
      " \n",
      "2\n",
      "Ingrese nombre: \n",
      "gfds\n",
      "Es un pokemon activo: si-->0 no-->1: 1\n",
      "false\n",
      "Ingrese el tipo de pokemon: \n",
      "agua\n",
      "Ingrese Nivel: \n",
      "23\n",
      "Ingrese id del entrenador: \n",
      "2\n"
     ]
    }
   ],
   "source": [
    "crear_pokemon()"
   ]
  },
  {
   "cell_type": "code",
   "execution_count": 26,
   "metadata": {},
   "outputs": [],
   "source": [
    "#crear pokemon\n",
    "def crear_pokemon():\n",
    "    activo_nuevo = True\n",
    "    print(\"Ingrese id Pokemon:\\n \")\n",
    "    id_pokemon_nuevo = int(input())\n",
    "    print(\"Ingrese nombre: \")\n",
    "    nombre_pokemon_nuevo = input()\n",
    "\n",
    "    eleccion = int(input(\"Es un pokemon activo: si-->0 no-->1: \"))\n",
    "    if eleccion is 0:\n",
    "            active_pokemon_nuevo = True\n",
    "          #  print(type(active_nuevo)) # str\n",
    "            print(\"true\")\n",
    "    elif eleccion is 1:\n",
    "            active_pokemon_nuevo = False\n",
    "            print(\"false\")\n",
    "    else:\n",
    "            #Equivalente a 'default'\n",
    "            print(\"Ninguna opción válida seleccionada\")\n",
    "\n",
    "    print(\"Ingrese el tipo de pokemon: \")\n",
    "    distancia_pokemon_caminada = input()\n",
    "    print(\"Ingrese Nivel: \")\n",
    "    level_pokemon = input()\n",
    "    print(\"Ingrese id del entrenador: \")\n",
    "    id_entrenador_pokemon = input()\n",
    "\n",
    "    pokemon = PokemonEntity(id_pokemon_nuevo, nombre_pokemon_nuevo, active_pokemon_nuevo , distancia_pokemon_caminada, level_pokemon, id_entrenador_pokemon ) ##creo el objeto para manipular\n",
    "    pokemones=Pokemon() #este es el que hace el crud\n",
    "    pokemones.create(pokemon) # crea el objeto\n",
    "    pokemones = pokemones.save_data() #guarda los datos escribe el json"
   ]
  },
  {
   "cell_type": "code",
   "execution_count": 29,
   "metadata": {},
   "outputs": [],
   "source": [
    "#Buscar entrenador\n",
    "def buscar_pokemon():\n",
    "    print(\"Ingrese el id del pokemon a buscar: \")\n",
    "    id_pokemon =int( input())\n",
    "    pokemon_encontrado = Pokemon().find(id_pokemon)\n",
    "    print(pokemon_encontrado)"
   ]
  },
  {
   "cell_type": "code",
   "execution_count": 32,
   "metadata": {},
   "outputs": [
    {
     "name": "stdout",
     "output_type": "stream",
     "text": [
      "Ingrese el id del pokemon a buscar: \n",
      "23\n",
      "None\n"
     ]
    }
   ],
   "source": [
    "buscar_pokemon()"
   ]
  },
  {
   "cell_type": "code",
   "execution_count": 45,
   "metadata": {},
   "outputs": [],
   "source": [
    "#borrar entrenador\n",
    "def borrar_pokemon():\n",
    "    print(\"Ingrese el id del pokemon a borrar: \")\n",
    "    id_pokemon = int( input())\n",
    "   # pokemon_actualizar = Pokemon().delete(id_pokemon)\n",
    "   # pokemon = PokemonEntity.from_dict(pokemon_actualizar) ##hacemos el parse entre json y entity\n",
    "    pokemones = Pokemon()\n",
    "    pokemones.delete(id_pokemon)\n",
    "    pokemones.save_data()"
   ]
  },
  {
   "cell_type": "code",
   "execution_count": 46,
   "metadata": {},
   "outputs": [
    {
     "name": "stdout",
     "output_type": "stream",
     "text": [
      "Ingrese el id del pokemon a borrar: \n",
      "2\n",
      "The element with id: 2 was deleted\n"
     ]
    }
   ],
   "source": [
    "borrar_pokemon()"
   ]
  },
  {
   "cell_type": "code",
   "execution_count": null,
   "metadata": {},
   "outputs": [],
   "source": []
  },
  {
   "cell_type": "code",
   "execution_count": null,
   "metadata": {},
   "outputs": [],
   "source": []
  },
  {
   "cell_type": "code",
   "execution_count": null,
   "metadata": {},
   "outputs": [],
   "source": []
  }
 ],
 "metadata": {
  "kernelspec": {
   "display_name": "Python 3",
   "language": "python",
   "name": "python3"
  },
  "language_info": {
   "codemirror_mode": {
    "name": "ipython",
    "version": 3
   },
   "file_extension": ".py",
   "mimetype": "text/x-python",
   "name": "python",
   "nbconvert_exporter": "python",
   "pygments_lexer": "ipython3",
   "version": "3.7.6"
  }
 },
 "nbformat": 4,
 "nbformat_minor": 4
}
