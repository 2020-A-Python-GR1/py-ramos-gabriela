{
 "cells": [
  {
   "cell_type": "code",
   "execution_count": 7,
   "metadata": {},
   "outputs": [],
   "source": [
    "import json\n",
    "entrenador ={\n",
    "      \"id_entrenador\": 1,\n",
    "        \"nombre\" : \"Pablo\",\n",
    "        \"cuidad\" : \"Quito\",\n",
    "        \"distancia_caminada\": 2.5,\n",
    "        \"nivel\" : 32, \n",
    "        \"companero\": True,\n",
    " ##    \"pokemones\": []\n",
    "    }\n",
    "## prueba error\n"
   ]
  },
  {
   "cell_type": "code",
   "execution_count": 14,
   "metadata": {},
   "outputs": [
    {
     "name": "stdout",
     "output_type": "stream",
     "text": [
      "Ingrese id entrenador:\n",
      " \n",
      "2\n",
      "Ingrese nombre: \n",
      "ff\n",
      "Ingrese cuidad: \n",
      "ff\n",
      "Ingrese distancia_caminada: \n",
      "2\n",
      "Ingrese nivel: \n",
      "2\n",
      "Ingrese companero: \n",
      "True\n"
     ]
    }
   ],
   "source": [
    "\n",
    "##agregar un entrenador\n",
    "print(\"Ingrese id entrenador:\\n \")\n",
    "id_entrenador_nuevo = int(input())\n",
    "entrenador['id_entrenador'] = id_entrenador_nuevo\n",
    "print(\"Ingrese nombre: \")\n",
    "nombre_nuevo = input()\n",
    "entrenador['nombre'] = nombre_nuevo\n",
    "print(\"Ingrese cuidad: \")\n",
    "cuidad_nuevo = input()\n",
    "entrenador['cuidad'] = cuidad_nuevo\n",
    "cadena_json = json.dumps(entrenador)\n",
    "print(\"Ingrese distancia_caminada: \")\n",
    "distancia_caminada_nuevo = float(input())\n",
    "entrenador['distancia_caminada'] = distancia_caminada_nuevo\n",
    "cadena_json = json.dumps(entrenador)\n",
    "print(\"Ingrese nivel: \")\n",
    "nivel_nuevo = int(input())\n",
    "entrenador['nivel'] = nivel_nuevo\n",
    "cadena_json = json.dumps(entrenador)\n",
    "print(\"Ingrese companero: \")\n",
    "companero_nuevo = bool(input())\n",
    "entrenador['companero'] = companero_nuevo\n",
    "#lista_pokemones=[]\n",
    "#valor=int(input(\"Ingrese id de los pokemones (0 para finalizar):\"))\n",
    "##while valor!=0:\n",
    "##    lista_pokemones.append(valor)\n",
    "##    valor=int(input(\"Ingrese id de los pokemones (0 para finalizar):\"))\n",
    "\n",
    "\n",
    "##entrenador['pokemones'].extend(lista_pokemones)\n",
    "\n",
    "#cadena_json = json.dumps(entrenador)\n",
    "\n",
    "##print(cadena_json)\n",
    "#entrenadores =[]\n",
    "entrenadores.append(entrenador)\n",
    "with open('C:/Users/gabyl/OneDrive/Documentos/GitHub-Repos/phyton/py-ramos-gabriela/Deberes/entrenadores.json','w') as f:\n",
    "       json.dump(entrenadores, f)\n",
    "  "
   ]
  },
  {
   "cell_type": "code",
   "execution_count": 15,
   "metadata": {},
   "outputs": [
    {
     "name": "stdout",
     "output_type": "stream",
     "text": [
      "[{'companero': True,\n",
      "  'cuidad': '5',\n",
      "  'distancia_caminada': 5.0,\n",
      "  'id_entrenador': 5,\n",
      "  'nivel': 5,\n",
      "  'nombre': '5'},\n",
      " {'companero': True,\n",
      "  'cuidad': 'ff',\n",
      "  'distancia_caminada': 2.0,\n",
      "  'id_entrenador': 2,\n",
      "  'nivel': 2,\n",
      "  'nombre': 'ff'}]\n"
     ]
    }
   ],
   "source": [
    "##show todos los entrenadores\n",
    "from pprint import pprint\n",
    "with open('entrenadores.json', 'r') as file:\n",
    "    entrenadores = json.load(file)\n",
    "    pprint(entrenadores)"
   ]
  },
  {
   "cell_type": "code",
   "execution_count": null,
   "metadata": {},
   "outputs": [],
   "source": []
  },
  {
   "cell_type": "code",
   "execution_count": null,
   "metadata": {},
   "outputs": [],
   "source": []
  },
  {
   "cell_type": "code",
   "execution_count": null,
   "metadata": {},
   "outputs": [],
   "source": []
  },
  {
   "cell_type": "code",
   "execution_count": null,
   "metadata": {},
   "outputs": [],
   "source": []
  },
  {
   "cell_type": "code",
   "execution_count": null,
   "metadata": {},
   "outputs": [],
   "source": []
  },
  {
   "cell_type": "code",
   "execution_count": null,
   "metadata": {},
   "outputs": [],
   "source": []
  },
  {
   "cell_type": "code",
   "execution_count": null,
   "metadata": {},
   "outputs": [],
   "source": []
  }
 ],
 "metadata": {
  "kernelspec": {
   "display_name": "Python 3",
   "language": "python",
   "name": "python3"
  },
  "language_info": {
   "codemirror_mode": {
    "name": "ipython",
    "version": 3
   },
   "file_extension": ".py",
   "mimetype": "text/x-python",
   "name": "python",
   "nbconvert_exporter": "python",
   "pygments_lexer": "ipython3",
   "version": "3.7.6"
  }
 },
 "nbformat": 4,
 "nbformat_minor": 4
}
