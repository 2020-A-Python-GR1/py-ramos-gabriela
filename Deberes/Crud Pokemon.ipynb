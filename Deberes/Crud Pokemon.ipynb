{
 "cells": [
  {
   "cell_type": "code",
   "execution_count": null,
   "metadata": {},
   "outputs": [],
   "source": [
    "import json\n",
    "with open('entrenadores.json') as file:\n",
    "    data = json.load(file)\n",
    "    for client in data['entrenadores']:\n",
    "        print('First name:', client['first_name'])\n",
    "        print('Last name:', client['last_name'])\n",
    "        print('Age:', client['age'])\n",
    "        print('Amount:', client['amount'])\n",
    "        print('')"
   ]
  }
 ],
 "metadata": {
  "kernelspec": {
   "display_name": "Python 3",
   "language": "python",
   "name": "python3"
  },
  "language_info": {
   "codemirror_mode": {
    "name": "ipython",
    "version": 3
   },
   "file_extension": ".py",
   "mimetype": "text/x-python",
   "name": "python",
   "nbconvert_exporter": "python",
   "pygments_lexer": "ipython3",
   "version": "3.7.6"
  }
 },
 "nbformat": 4,
 "nbformat_minor": 4
}
