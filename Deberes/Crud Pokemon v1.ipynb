{
 "cells": [
  {
   "cell_type": "code",
   "execution_count": 7,
   "metadata": {
    "scrolled": true
   },
   "outputs": [
    {
     "name": "stdout",
     "output_type": "stream",
     "text": [
      "[{'IdEntrenador': 1,\n",
      "  'cuidad': 'Quito',\n",
      "  'distanciaCaminada': 2.5,\n",
      "  'nivel': 32,\n",
      "  'nombre': 'Pablo',\n",
      "  'parner': True,\n",
      "  'pokemones': [1, 2, 5, 8, 24, 21, 25, 34, 65, 33, 75, 11, 19]},\n",
      " {'IdEntrenador': 2,\n",
      "  'cuidad': 'Ibarra',\n",
      "  'distanciaCaminada': 25.5,\n",
      "  'nivel': 26,\n",
      "  'nombre': 'Santiago',\n",
      "  'parner': False,\n",
      "  'pokemones': [1, 2, 5, 8, 10, 15]},\n",
      " {'IdEntrenador': 3,\n",
      "  'cuidad': 'Quito',\n",
      "  'distanciaCaminada': 50.5,\n",
      "  'nivel': 38,\n",
      "  'nombre': 'Xavier',\n",
      "  'parner': True,\n",
      "  'pokemones': [1, 2, 5, 8, 10, 15, 23, 26, 27]},\n",
      " {'IdEntrenador': 4,\n",
      "  'cuidad': 'Quito',\n",
      "  'distanciaCaminada': 25.5,\n",
      "  'nivel': 28,\n",
      "  'nombre': 'Nestor',\n",
      "  'parner': False,\n",
      "  'pokemones': [1, 2, 5, 8, 10, 15, 3, 4, 6]}]\n"
     ]
    }
   ],
   "source": [
    "import json\n",
    "\n",
    "#with open(\"C:/Users/gabyl/OneDrive/Documentos/GitHub-Repos/phyton/py-ramos-gabriela/Deberes/entrenadores.json\") as f:\n",
    "from pprint import pprint\n",
    "\n",
    "with open('C:/Users/gabyl/OneDrive/Documentos/GitHub-Repos/phyton/py-ramos-gabriela/Deberes/entrenadores.json') as f:\n",
    "    data = json.load(f)\n",
    "\n",
    "pprint(data)\n"
   ]
  },
  {
   "cell_type": "code",
   "execution_count": 4,
   "metadata": {},
   "outputs": [],
   "source": [
    "f.close()"
   ]
  },
  {
   "cell_type": "code",
   "execution_count": null,
   "metadata": {},
   "outputs": [],
   "source": [
    "\n",
    "\n",
    "\n",
    "\n",
    "#crear un elemento\n",
    "entrenadorNuevo=[]\n",
    "print(\"agregar entrenador\")\n",
    "DatosEntrenador=[]\n",
    "pokemonesentrenador=[]\n",
    "DatosEntrenador.append(int(input(\"Ingrese id \")))\n",
    "DatosEntrenador.append(input(\"Ingrese Nombre \"))\n",
    "DatosEntrenador.append(input(\"Ingrese cuidad \"))\n",
    "DatosEntrenador.append(float(input(\"Ingrese distancia Caminada \")))\n",
    "DatosEntrenador.append(int(input(\"Ingrese nivel \")))\n",
    "DatosEntrenador.append(bool(input(\"Ingrese parner \")))\n",
    "pokemonesentrenador.append(int(input(\"Ingrese pokemon 1 \")))\n",
    "pokemonesentrenador.append(int(input(\"Ingrese pokemon 2 \")))\n",
    "pokemonesentrenador.append(int(input(\"Ingrese pokemon 3 \")))\n",
    "DatosEntrenador.append(pokemonesentrenador)\n",
    "entrenadorNuevo.append(DatosEntrenador)\n",
    "datosentrenadornuevo=json.dumps(entrenadorNuevo)\n",
    "baseEntrenadores = open('C:/Users/gabyl/OneDrive/Documentos/GitHub-Repos/phyton/py-ramos-gabriela/Deberes/entrenadores.json','a')\n",
    "baseEntrenadores.write(datosentrenadornuevo)\n",
    "\n",
    "baseEntrenadores.close()"
   ]
  }
 ],
 "metadata": {
  "kernelspec": {
   "display_name": "Python 3",
   "language": "python",
   "name": "python3"
  },
  "language_info": {
   "codemirror_mode": {
    "name": "ipython",
    "version": 3
   },
   "file_extension": ".py",
   "mimetype": "text/x-python",
   "name": "python",
   "nbconvert_exporter": "python",
   "pygments_lexer": "ipython3",
   "version": "3.7.6"
  }
 },
 "nbformat": 4,
 "nbformat_minor": 4
}
