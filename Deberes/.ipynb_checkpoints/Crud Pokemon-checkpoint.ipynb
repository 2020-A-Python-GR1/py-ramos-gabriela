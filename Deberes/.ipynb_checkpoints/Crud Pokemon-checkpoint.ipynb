{
 "cells": [
  {
   "cell_type": "code",
   "execution_count": 4,
   "metadata": {
    "scrolled": true
   },
   "outputs": [
    {
     "name": "stdout",
     "output_type": "stream",
     "text": [
      "[{'IdEntrenador': 1, 'nombre': 'Pablo', 'cuidad': 'Quito', 'distanciaCaminada': 2.5, 'nivel': 32, 'parner': True, 'pokemones': [1, 2, 5, 8, 24, 21, 25, 34, 65, 33, 75, 11, 19]}, {'IdEntrenador': 2, 'nombre': 'Santiago', 'cuidad': 'Ibarra', 'distanciaCaminada': 25.5, 'nivel': 26, 'parner': False, 'pokemones': [1, 2, 5, 8, 10, 15]}, {'IdEntrenador': 3, 'nombre': 'Xavier', 'cuidad': 'Quito', 'distanciaCaminada': 50.5, 'nivel': 38, 'parner': True, 'pokemones': [1, 2, 5, 8, 10, 15, 23, 26, 27]}, {'IdEntrenador': 4, 'nombre': 'Nestor', 'cuidad': 'Quito', 'distanciaCaminada': 25.5, 'nivel': 28, 'parner': False, 'pokemones': [1, 2, 5, 8, 10, 15, 3, 4, 6]}]\n"
     ]
    }
   ],
   "source": [
    "import json\n",
    "\n",
    "with open('C:/Users/gabyl/OneDrive/Documentos/GitHub-Repos/phyton/py-ramos-gabriela/Deberes/entrenadores.json') as f:\n",
    "  data = json.load(f) #leer json\n",
    "\n",
    "# Output: IdEntrenador': 1, 'nombre': 'Pablo', 'cuidad': 'Quito', 'distanciaCaminada': 2.5, 'nivel': 32, 'parner': True, 'pokemones': [1, 2, 5, 8, 24, 21, 25, 34, 65, 33, 75, 11, 19]\n",
    "print(data)"
   ]
  },
  {
   "cell_type": "code",
   "execution_count": null,
   "metadata": {},
   "outputs": [],
   "source": []
  }
 ],
 "metadata": {
  "kernelspec": {
   "display_name": "Python 3",
   "language": "python",
   "name": "python3"
  },
  "language_info": {
   "codemirror_mode": {
    "name": "ipython",
    "version": 3
   },
   "file_extension": ".py",
   "mimetype": "text/x-python",
   "name": "python",
   "nbconvert_exporter": "python",
   "pygments_lexer": "ipython3",
   "version": "3.7.6"
  }
 },
 "nbformat": 4,
 "nbformat_minor": 4
}
