{
 "cells": [
  {
   "cell_type": "code",
   "execution_count": 62,
   "metadata": {},
   "outputs": [],
   "source": [
    "from dataclasses import dataclass\n",
    "from dataclasses_json import dataclass_json\n",
    "\n",
    "@dataclass_json\n",
    "@dataclass\n",
    "class EntrenadorEntity:\n",
    "    id: int\n",
    "    name: str\n",
    "    active: bool\n",
    "    distance: float\n",
    "    level: str\n",
    "    pokemon = []"
   ]
  },
  {
   "cell_type": "code",
   "execution_count": 63,
   "metadata": {},
   "outputs": [],
   "source": [
    "import json\n",
    "\n",
    "#from entrenador import EntrenadorEntity\n",
    "class Entrenador():\n",
    "\n",
    "    def __init__(self):\n",
    "        with open('C:/Users/gabyl/OneDrive/Documentos/GitHub-Repos/phyton/py-ramos-gabriela/Deberes/entrenadores2.json', 'r') as file:\n",
    "            self.entrenadores = json.load(file)\n",
    "\n",
    "    def create(self, entrenador: EntrenadorEntity):\n",
    "        self.entrenadores.append(entrenador.to_dict())\n",
    "\n",
    "    def update(self, id: int, entrenador: EntrenadorEntity):\n",
    "        entrenador.id = id\n",
    "        for i in range(0, len(self.entrenadores)):\n",
    "            if self.entrenadores[i]['id'] == id:\n",
    "                self.entrenadores[i] = entrenador.to_dict()\n",
    "                print('Updated!')\n",
    "                break\n",
    "\n",
    "    def find(self, id: int):\n",
    "        for entrenador in self.entrenadores:\n",
    "            if entrenador['id'] == id:\n",
    "               # print(entrenador)\n",
    "                return entrenador\n",
    "        return None\n",
    "\n",
    "    def delete(self, id: int):\n",
    "        entrenador = self.find(id)\n",
    "        if entrenador is not None:\n",
    "            self.entrenadores.remove(entrenador)\n",
    "            print('The element with id: ' + str(id) + ' was deleted')\n",
    "        else:\n",
    "            print('The element with id: ' + str(id) + ' wasn\\'t found')\n",
    "\n",
    "    def show_entrenadores(self):\n",
    "        return self.entrenadores\n",
    "\n",
    "    def save_data(self):\n",
    "        with open('C:/Users/gabyl/OneDrive/Documentos/GitHub-Repos/phyton/py-ramos-gabriela/Deberes/entrenadores2.json', 'w') as file:\n",
    "            json.dump(self.entrenadores, file)"
   ]
  },
  {
   "cell_type": "code",
   "execution_count": 46,
   "metadata": {},
   "outputs": [],
   "source": [
    "#crear entrenador\n",
    "def crear_entrenador():\n",
    "    activo_nuevo = True\n",
    "    print(\"Ingrese id entrenador:\\n \")\n",
    "    id_entrenador_nuevo = int(input())\n",
    "    print(\"Ingrese nombre: \")\n",
    "    nombre_nuevo = input()\n",
    "\n",
    "    eleccion = int(input(\"Es un entrenador activo: si-->0 no-->1: \"))\n",
    "    if eleccion is 0:\n",
    "            active_nuevo = True\n",
    "          #  print(type(active_nuevo)) # str\n",
    "            print(\"true\")\n",
    "    elif eleccion is 1:\n",
    "            active_nuevo = False\n",
    "           # print(type(active_nuevo)) # str\n",
    "\n",
    "            print(\"false\")\n",
    "    else:\n",
    "            #Equivalente a 'default'\n",
    "            print(\"Ninguna opción válida seleccionada\")\n",
    "\n",
    "    print(\"Disntacia caminada: \")\n",
    "    distancia_caminada = input()\n",
    "    print(\"Ingrese Nivel: \")\n",
    "    level = input()\n",
    "\n",
    "    entrenador = EntrenadorEntity(id_entrenador_nuevo, nombre_nuevo, active_nuevo , distancia_caminada, level) ##creo el objeto para manipular\n",
    "    entrenadores=Entrenador() #este es el que hace el crud\n",
    "    entrenadores.create(entrenador) # crea el objeto\n",
    "    entrenadores = entrenadores.save_data() #guarda los datos escribe el json"
   ]
  },
  {
   "cell_type": "code",
   "execution_count": 64,
   "metadata": {},
   "outputs": [],
   "source": [
    "#Buscar entrenador\n",
    "def buscar_entrenador():\n",
    "    print(\"Ingrese el id del entrenador a buscar: \")\n",
    "    id_entrenador =int( input())\n",
    "    entrenador_encontrado = Entrenador().find(id_entrenador)\n",
    "    print(entrenador_encontrado)"
   ]
  },
  {
   "cell_type": "code",
   "execution_count": 60,
   "metadata": {},
   "outputs": [
    {
     "name": "stdout",
     "output_type": "stream",
     "text": [
      "Menu de Entrenador\n",
      "1. Crear un entrenador\n",
      "2. Buscar un entrenador\n",
      "3. Actualizar un entrenador\n",
      "4. Eliminar un entrenador\n",
      "Seleccione una opción: 4\n",
      "Ingrese el id del entrenador para actualizar: \n",
      "4\n",
      "The element with id: 4 was deleted\n"
     ]
    }
   ],
   "source": [
    "print('Menu de Entrenador')\n",
    "print('1. Crear un entrenador')    \n",
    "print('2. Buscar un entrenador')\n",
    "print('3. Actualizar un entrenador')\n",
    "print('4. Eliminar un entrenador')\n",
    "opcion = int(input('Seleccione una opción: '))\n",
    "entrenadores = Entrenador()\n",
    "if opcion is 1:\n",
    "    crear_entrenador()\n",
    "elif opcion is 2:\n",
    "    buscar_entrenador()\n",
    "elif opcion is 3:\n",
    "    actualizar_entrenador()\n",
    "elif opcion is 4:\n",
    "    borrar_entrenador()\n",
    "else:\n",
    "    #Equivalente a 'default'\n",
    "    print(\"Ninguna opción válida seleccionada\")"
   ]
  },
  {
   "cell_type": "code",
   "execution_count": 65,
   "metadata": {
    "scrolled": false
   },
   "outputs": [],
   "source": [
    "#editar entrenador\n",
    "\n",
    "def actualizar_entrenador():\n",
    "    print(\"Ingrese el id del entrenador para actualizar: \")\n",
    "    id_entrenador =int( input())\n",
    "    entrenador_actualizar = Entrenador().find(id_entrenador)\n",
    "    entrenador = EntrenadorEntity.from_dict(entrenador_actualizar) ##hacemos el parse entre json y entity\n",
    "    entrenadores = Entrenador()\n",
    "    print(\"Ingrese el nuevo nombre del entrenador: \")\n",
    "    nombre_nuevo_entrenador = input()\n",
    "    entrenador.name = nombre_nuevo_entrenador\n",
    "    entrenadores.update(1, entrenador)\n",
    "    entrenadores.save_data()"
   ]
  },
  {
   "cell_type": "code",
   "execution_count": 49,
   "metadata": {},
   "outputs": [
    {
     "name": "stdout",
     "output_type": "stream",
     "text": [
      "Ingrese el id del entrenador para actualizar: \n",
      "4\n",
      "Ingrese el nuevo nombre del entrenador: \n",
      "pruebaaa\n",
      "Updated!\n"
     ]
    }
   ],
   "source": [
    "actualizar_entrenador()"
   ]
  },
  {
   "cell_type": "code",
   "execution_count": 66,
   "metadata": {},
   "outputs": [],
   "source": [
    "#borrar entrenador\n",
    "def borrar_entrenador():\n",
    "    print(\"Ingrese el id del entrenador para actualizar: \")\n",
    "    id_entrenador =int( input())\n",
    "    entrenador_actualizar = Entrenador().find(id_entrenador)\n",
    "    entrenador = EntrenadorEntity.from_dict(entrenador_actualizar) ##hacemos el parse entre json y entity\n",
    "    entrenadores = Entrenador()\n",
    "    entrenadores.delete(id_entrenador)\n",
    "    entrenadores.save_data()"
   ]
  },
  {
   "cell_type": "code",
   "execution_count": 61,
   "metadata": {},
   "outputs": [
    {
     "name": "stdout",
     "output_type": "stream",
     "text": [
      "Ingrese el id del entrenador a buscar: \n",
      "4\n",
      "None\n"
     ]
    }
   ],
   "source": [
    "buscar_entrenador()"
   ]
  },
  {
   "cell_type": "code",
   "execution_count": 67,
   "metadata": {},
   "outputs": [],
   "source": [
    "from dataclasses import dataclass\n",
    "from dataclasses_json import dataclass_json\n",
    "\n",
    "\n",
    "@dataclass_json ##decorador para manejar archivos\n",
    "@dataclass\n",
    "class PokemonEntity:\n",
    "    id: int\n",
    "    name: str\n",
    "    active: bool\n",
    "    type: str\n",
    "    level: int\n",
    "    id_trainer: int\n"
   ]
  },
  {
   "cell_type": "code",
   "execution_count": 68,
   "metadata": {},
   "outputs": [],
   "source": [
    "import json\n",
    "\n",
    "class Pokemon():\n",
    "\n",
    "    def __init__(self):\n",
    "        with open('C:/Users/gabyl/OneDrive/Documentos/GitHub-Repos/phyton/py-ramos-gabriela/Deberes/pokemones2.json', 'r') as file:\n",
    "            self.pokemones = json.load(file)\n",
    "\n",
    "    def create(self, pokemon: PokemonEntity):\n",
    "        self.pokemones.append(pokemon.to_dict())\n",
    "\n",
    "    def update(self, id: int, pokemon: PokemonEntity):\n",
    "        pokemon.id = id\n",
    "        for i in range(0, len(self.pokemones)):\n",
    "            if self.pokemones[i]['id'] == id:\n",
    "                self.pokemones[i] = pokemon.to_dict()\n",
    "                print('Updated!')\n",
    "                break\n",
    "\n",
    "    def find(self, id: int):\n",
    "        for pokemon in self.pokemones:\n",
    "            if pokemon['id'] == id:\n",
    "                return pokemon\n",
    "        return None\n",
    "\n",
    "    def find_all(self, id_trainer: int):\n",
    "        pokemones = []\n",
    "        for pokemon in self.pokemones:\n",
    "            if pokemon['id_trainer'] == id_trainer:\n",
    "                pokemones.append(pokemon)\n",
    "        return pokemones\n",
    "\n",
    "    def delete(self, id: int):\n",
    "        pokemon = self.find(id)\n",
    "        if pokemon is not None:\n",
    "            self.pokemones.remove(pokemon)\n",
    "            print('The element with id: ' + str(id) + ' was deleted')\n",
    "        else:\n",
    "            print('The element with id: ' + str(id) + ' wasn\\'t found')\n",
    "\n",
    "    def show_pokemones(self):\n",
    "        return self.pokemones\n",
    "\n",
    "    def save_data(self):\n",
    "        with open('C:/Users/gabyl/OneDrive/Documentos/GitHub-Repos/phyton/py-ramos-gabriela/Deberes/pokemones2.json', 'w') as file:\n",
    "            json.dump(self.pokemones, file)\n"
   ]
  },
  {
   "cell_type": "code",
   "execution_count": null,
   "metadata": {},
   "outputs": [],
   "source": [
    "pokemon = PokemonEntity(1, \"Pikachu\", True, 'electric', 23, 1)\n",
    "pokemon.id_trainer =2\n",
    "pokemones=Pokemon()\n",
    "pokemones.create(pokemon)\n",
    "pokemones.save_data()"
   ]
  },
  {
   "cell_type": "code",
   "execution_count": null,
   "metadata": {},
   "outputs": [],
   "source": []
  },
  {
   "cell_type": "code",
   "execution_count": null,
   "metadata": {},
   "outputs": [],
   "source": []
  },
  {
   "cell_type": "code",
   "execution_count": 69,
   "metadata": {},
   "outputs": [],
   "source": [
    "#crear pokemon\n",
    "def crear_pokemon():\n",
    "    activo_nuevo = True\n",
    "    print(\"Ingrese id Pokemon:\\n \")\n",
    "    id_pokemon_nuevo = int(input())\n",
    "    print(\"Ingrese nombre: \")\n",
    "    nombre_pokemon_nuevo = input()\n",
    "\n",
    "    eleccion = int(input(\"Es un pokemon activo: si-->0 no-->1: \"))\n",
    "    if eleccion is 0:\n",
    "            active_pokemon_nuevo = True\n",
    "          #  print(type(active_nuevo)) # str\n",
    "            print(\"true\")\n",
    "    elif eleccion is 1:\n",
    "            active_pokemon_nuevo = False\n",
    "            print(\"false\")\n",
    "    else:\n",
    "            #Equivalente a 'default'\n",
    "            print(\"Ninguna opción válida seleccionada\")\n",
    "\n",
    "    print(\"Ingrese el tipo de pokemon: \")\n",
    "    distancia_pokemon_caminada = input()\n",
    "    print(\"Ingrese Nivel: \")\n",
    "    level_pokemon = input()\n",
    "    print(\"Ingrese id del entrenador: \")\n",
    "    id_entrenador_pokemon = input()\n",
    "\n",
    "    pokemon = PokemonEntity(id_pokemon_nuevo, nombre_pokemon_nuevo, active_pokemon_nuevo , distancia_pokemon_caminada, level_pokemon, id_entrenador_pokemon ) ##creo el objeto para manipular\n",
    "    pokemones=Pokemon() #este es el que hace el crud\n",
    "    pokemones.create(pokemon) # crea el objeto\n",
    "    pokemones = pokemones.save_data() #guarda los datos escribe el json"
   ]
  },
  {
   "cell_type": "code",
   "execution_count": 70,
   "metadata": {},
   "outputs": [],
   "source": [
    "#Buscar entrenador\n",
    "def buscar_pokemon():\n",
    "    print(\"Ingrese el id del pokemon a buscar: \")\n",
    "    id_pokemon =int( input())\n",
    "    pokemon_encontrado = Pokemon().find(id_pokemon)\n",
    "    print(pokemon_encontrado)"
   ]
  },
  {
   "cell_type": "code",
   "execution_count": 12,
   "metadata": {},
   "outputs": [
    {
     "name": "stdout",
     "output_type": "stream",
     "text": [
      "Ingrese el id del pokemon a buscar: \n",
      "2\n",
      "None\n"
     ]
    }
   ],
   "source": [
    "buscar_pokemon()"
   ]
  },
  {
   "cell_type": "code",
   "execution_count": 71,
   "metadata": {},
   "outputs": [],
   "source": [
    "#borrar entrenador\n",
    "def borrar_pokemon():\n",
    "    print(\"Ingrese el id del pokemon a borrar: \")\n",
    "    id_pokemon =int( input())\n",
    " \n",
    "   # pokemon_actualizar = Pokemon().delete(id_pokemon)\n",
    "   # pokemon = PokemonEntity.from_dict(pokemon_actualizar) ##hacemos el parse entre json y entity\n",
    "    pokemones = Pokemon()\n",
    "    pokemones.delete(id_pokemon)\n",
    "    pokemones.save_data()"
   ]
  },
  {
   "cell_type": "code",
   "execution_count": 46,
   "metadata": {},
   "outputs": [
    {
     "name": "stdout",
     "output_type": "stream",
     "text": [
      "Ingrese el id del pokemon a borrar: \n",
      "2\n",
      "The element with id: 2 was deleted\n"
     ]
    }
   ],
   "source": [
    "borrar_pokemon()"
   ]
  },
  {
   "cell_type": "code",
   "execution_count": 72,
   "metadata": {},
   "outputs": [],
   "source": [
    "#editar entrenador\n",
    "def actualizar_pokemon():\n",
    "    print(\"Ingrese el id del pokemon a borrar: \")\n",
    "    id_pokemon = int( input())\n",
    "    pokemon_actualizar = Pokemon().find(id_pokemon)\n",
    "    pokemon = PokemonEntity.from_dict(pokemon_actualizar) ##hacemos el parse entre json y entity\n",
    "    pokemones = Pokemon()\n",
    "    print(\"Ingrese el nuevo nombre del pokemon: \")\n",
    "    nuevo_nombre_pokemon = input()\n",
    "    pokemon.name = nuevo_nombre_pokemon\n",
    "    pokemones.update(id_pokemon, pokemon)\n",
    "    pokemones.save_data()"
   ]
  },
  {
   "cell_type": "code",
   "execution_count": 19,
   "metadata": {},
   "outputs": [
    {
     "name": "stdout",
     "output_type": "stream",
     "text": [
      "Ingrese id Pokemon:\n",
      " \n",
      "3\n",
      "Ingrese nombre: \n",
      "prueba\n",
      "Es un pokemon activo: si-->0 no-->1: 1\n",
      "false\n",
      "Ingrese el tipo de pokemon: \n",
      "agua\n",
      "Ingrese Nivel: \n",
      "23\n",
      "Ingrese id del entrenador: \n",
      "2\n"
     ]
    }
   ],
   "source": [
    " crear_pokemon()"
   ]
  },
  {
   "cell_type": "code",
   "execution_count": 28,
   "metadata": {},
   "outputs": [
    {
     "name": "stdout",
     "output_type": "stream",
     "text": [
      "Ingrese el id del pokemon a buscar: \n",
      "3\n",
      "{'id': 3, 'name': 'aquaman', 'active': False, 'type': 'agua', 'level': '23', 'id_trainer': '2'}\n"
     ]
    }
   ],
   "source": [
    "buscar_pokemon()"
   ]
  },
  {
   "cell_type": "code",
   "execution_count": 79,
   "metadata": {},
   "outputs": [
    {
     "name": "stdout",
     "output_type": "stream",
     "text": [
      "Menu de Pokemon\n",
      "1. Crear un Pokemon\n",
      "2. Buscar un Pokemon\n",
      "3. Actualizar un Pokemon\n",
      "4. Eliminar un Pokemon\n",
      "Seleccione una opción: 2\n",
      "Ingrese el id del pokemon a buscar: \n",
      "34\n",
      "None\n"
     ]
    }
   ],
   "source": [
    "print('Menu de Pokemon')\n",
    "print('1. Crear un Pokemon')    \n",
    "print('2. Buscar un Pokemon')\n",
    "print('3. Actualizar un Pokemon')\n",
    "print('4. Eliminar un Pokemon')\n",
    "opcion = int(input('Seleccione una opción: '))\n",
    "pokemones = Pokemon()\n",
    "if opcion is 1:\n",
    "    crear_pokemon()\n",
    "elif opcion is 2:\n",
    "    buscar_pokemon()\n",
    "elif opcion is 3:\n",
    "    actualizar_pokemon()\n",
    "elif opcion is 4:\n",
    "    borrar_pokemon()\n",
    "else:\n",
    "    #Equivalente a 'default'\n",
    "    print(\"Ninguna opción válida seleccionada\")"
   ]
  },
  {
   "cell_type": "code",
   "execution_count": 30,
   "metadata": {},
   "outputs": [
    {
     "name": "stdout",
     "output_type": "stream",
     "text": [
      "Ingrese id Pokemon:\n",
      " \n",
      "2\n",
      "Ingrese nombre: \n",
      "ffds\n",
      "Es un pokemon activo: si-->0 no-->1: 0\n",
      "true\n",
      "Ingrese el tipo de pokemon: \n",
      "tierra\n",
      "Ingrese Nivel: \n",
      "22\n",
      "Ingrese id del entrenador: \n",
      "3\n"
     ]
    }
   ],
   "source": [
    " crear_pokemon()"
   ]
  },
  {
   "cell_type": "code",
   "execution_count": 35,
   "metadata": {},
   "outputs": [
    {
     "name": "stdout",
     "output_type": "stream",
     "text": [
      "Ingrese el id del pokemon a buscar: \n",
      "2\n",
      "None\n"
     ]
    }
   ],
   "source": [
    "buscar_pokemon()"
   ]
  },
  {
   "cell_type": "code",
   "execution_count": 32,
   "metadata": {},
   "outputs": [
    {
     "name": "stdout",
     "output_type": "stream",
     "text": [
      "Ingrese el id del pokemon a borrar: \n",
      "2\n",
      "Ingrese el nuevo nombre del pokemon: \n",
      "pruebaaaa\n",
      "Updated!\n"
     ]
    }
   ],
   "source": [
    " actualizar_pokemon()"
   ]
  },
  {
   "cell_type": "code",
   "execution_count": 34,
   "metadata": {},
   "outputs": [
    {
     "name": "stdout",
     "output_type": "stream",
     "text": [
      "Ingrese el id del pokemon a borrar: \n",
      "2\n",
      "The element with id: 2 was deleted\n"
     ]
    }
   ],
   "source": [
    "borrar_pokemon()"
   ]
  },
  {
   "cell_type": "code",
   "execution_count": null,
   "metadata": {},
   "outputs": [],
   "source": []
  }
 ],
 "metadata": {
  "kernelspec": {
   "display_name": "Python 3",
   "language": "python",
   "name": "python3"
  },
  "language_info": {
   "codemirror_mode": {
    "name": "ipython",
    "version": 3
   },
   "file_extension": ".py",
   "mimetype": "text/x-python",
   "name": "python",
   "nbconvert_exporter": "python",
   "pygments_lexer": "ipython3",
   "version": "3.7.6"
  }
 },
 "nbformat": 4,
 "nbformat_minor": 4
}
