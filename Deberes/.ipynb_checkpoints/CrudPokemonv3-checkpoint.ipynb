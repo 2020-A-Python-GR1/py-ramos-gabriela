{
 "cells": [
  {
   "cell_type": "code",
   "execution_count": null,
   "metadata": {},
   "outputs": [],
   "source": [
    "from dataclasses import dataclass\n",
    "from dataclasses_json import dataclass_json\n",
    "\n",
    "@dataclass_json\n",
    "@dataclass\n",
    "class EntrenadorEntity:\n",
    "    id: int\n",
    "    name: str\n",
    "    active: bool\n",
    "    distance: float\n",
    "    level: str\n",
    "    pokemon = []"
   ]
  },
  {
   "cell_type": "code",
   "execution_count": null,
   "metadata": {},
   "outputs": [],
   "source": [
    "import json\n",
    "\n",
    "#from entrenador import EntrenadorEntity\n",
    "\n",
    "\n",
    "class Entrenador():\n",
    "\n",
    "    def __init__(self):\n",
    "        with open('C:/Users/gabyl/OneDrive/Documentos/GitHub-Repos/phyton/py-ramos-gabriela/Deberes/entrenadores2.json', 'r') as file:\n",
    "            self.entrenadores = json.load(file)\n",
    "\n",
    "    def create(self, entrenador: EntrenadorEntity):\n",
    "        self.entrenadores.append(entrenador.to_dict())\n",
    "\n",
    "    def update(self, id: int, entrenador: EntrenadorEntity):\n",
    "        entrenador.id = id\n",
    "        for i in range(0, len(self.entrenadores)):\n",
    "            if self.entrenadores[i]['id'] == id:\n",
    "                self.entrenadores[i] = entrenador.to_dict()\n",
    "                print('Updated!')\n",
    "                break\n",
    "\n",
    "    def find(self, id: int):\n",
    "        for entrenador in self.entrenadores:\n",
    "            if entrenador['id'] == id:\n",
    "                return entrenador\n",
    "        return None\n",
    "\n",
    "    def delete(self, id: int):\n",
    "        entrenador = self.find(id)\n",
    "        if entrenador is not None:\n",
    "            self.entrenadores.remove(entrenador)\n",
    "            print('The element with id: ' + str(id) + ' was deleted')\n",
    "        else:\n",
    "            print('The element with id: ' + str(id) + ' wasn\\'t found')\n",
    "\n",
    "    def show_entrenadores(self):\n",
    "        return self.entrenadores\n",
    "\n",
    "    def save_data(self):\n",
    "        with open('C:/Users/gabyl/OneDrive/Documentos/GitHub-Repos/phyton/py-ramos-gabriela/Deberes/entrenadores2.json', 'w') as file:\n",
    "            json.dump(self.entrenadores, file)"
   ]
  },
  {
   "cell_type": "code",
   "execution_count": 91,
   "metadata": {},
   "outputs": [
    {
     "name": "stdout",
     "output_type": "stream",
     "text": [
      "Ingrese id entrenador:\n",
      " \n",
      "2\n",
      "Ingrese nombre: \n",
      "Gaby\n"
     ]
    }
   ],
   "source": [
    "#crear entrenador\n",
    "print(\"Ingrese id entrenador:\\n \")\n",
    "id_entrenador_nuevo = int(input())\n",
    "print(\"Ingrese nombre: \")\n",
    "nombre_nuevo = input()\n",
    "\n",
    "entrenador = EntrenadorEntity(id_entrenador_nuevo, nombre_nuevo, True, 12.3, 'gold')\n",
    "entrenadores=Entrenador()\n",
    "entrenadores.create(entrenador)\n",
    "entrenadores.save_data()"
   ]
  },
  {
   "cell_type": "code",
   "execution_count": null,
   "metadata": {},
   "outputs": [],
   "source": []
  },
  {
   "cell_type": "code",
   "execution_count": null,
   "metadata": {},
   "outputs": [],
   "source": []
  },
  {
   "cell_type": "code",
   "execution_count": null,
   "metadata": {},
   "outputs": [],
   "source": []
  },
  {
   "cell_type": "code",
   "execution_count": 49,
   "metadata": {},
   "outputs": [],
   "source": []
  },
  {
   "cell_type": "code",
   "execution_count": 69,
   "metadata": {},
   "outputs": [],
   "source": [
    "\n"
   ]
  },
  {
   "cell_type": "code",
   "execution_count": 73,
   "metadata": {},
   "outputs": [],
   "source": []
  },
  {
   "cell_type": "code",
   "execution_count": 76,
   "metadata": {},
   "outputs": [],
   "source": [
    "from dataclasses import dataclass\n",
    "from dataclasses_json import dataclass_json\n",
    "\n",
    "\n",
    "@dataclass_json ##decorador para manejar archivos\n",
    "@dataclass\n",
    "class PokemonEntity:\n",
    "    id: int\n",
    "    name: str\n",
    "    active: bool\n",
    "    type: str\n",
    "    level: int\n",
    "    id_trainer: int\n"
   ]
  },
  {
   "cell_type": "code",
   "execution_count": 84,
   "metadata": {},
   "outputs": [],
   "source": [
    "import json\n",
    "\n",
    "class Pokemon():\n",
    "\n",
    "    def __init__(self):\n",
    "        with open('C:/Users/gabyl/OneDrive/Documentos/GitHub-Repos/phyton/py-ramos-gabriela/Deberes/pokemones2.json', 'r') as file:\n",
    "            self.pokemones = json.load(file)\n",
    "\n",
    "    def create(self, pokemon: PokemonEntity):\n",
    "        self.pokemones.append(pokemon.to_dict())\n",
    "\n",
    "    def update(self, id: int, pokemon: PokemonEntity):\n",
    "        pokemon.id = id\n",
    "        for i in range(0, len(self.pokemones)):\n",
    "            if self.pokemones[i]['id'] == id:\n",
    "                self.pokemones[i] = pokemon.to_dict()\n",
    "                print('Updated!')\n",
    "                break\n",
    "\n",
    "    def find(self, id: int):\n",
    "        for pokemon in self.pokemones:\n",
    "            if pokemon['id'] == id:\n",
    "                return pokemon\n",
    "        return None\n",
    "\n",
    "    def find_all(self, id_trainer: int):\n",
    "        pokemones = []\n",
    "        for pokemon in self.pokemones:\n",
    "            if pokemon['id_trainer'] == id_trainer:\n",
    "                pokemones.append(pokemon)\n",
    "        return pokemones\n",
    "\n",
    "    def delete(self, id: int):\n",
    "        pokemon = self.find(id)\n",
    "        if pokemon is not None:\n",
    "            self.pokemones.remove(pokemon)\n",
    "            print('The element with id: ' + str(id) + ' was deleted')\n",
    "        else:\n",
    "            print('The element with id: ' + str(id) + ' wasn\\'t found')\n",
    "\n",
    "    def show_pokemones(self):\n",
    "        return self.pokemones\n",
    "\n",
    "    def save_data(self):\n",
    "        with open('C:/Users/gabyl/OneDrive/Documentos/GitHub-Repos/phyton/py-ramos-gabriela/Deberes/pokemones2.json', 'w') as file:\n",
    "            json.dump(self.pokemones, file)\n"
   ]
  },
  {
   "cell_type": "code",
   "execution_count": 89,
   "metadata": {},
   "outputs": [],
   "source": [
    "pokemon = PokemonEntity(1, \"Pikachu\", True, 'electric', 23, 1)\n",
    "pokemon.id_trainer =2\n",
    "pokemones=Pokemon()\n",
    "pokemones.create(pokemon)\n",
    "pokemones.save_data()"
   ]
  },
  {
   "cell_type": "code",
   "execution_count": 90,
   "metadata": {},
   "outputs": [
    {
     "data": {
      "text/plain": [
       "[{'id': 1,\n",
       "  'name': 'Pikachu',\n",
       "  'active': True,\n",
       "  'type': 'electric',\n",
       "  'level': 23,\n",
       "  'id_trainer': 2}]"
      ]
     },
     "execution_count": 90,
     "metadata": {},
     "output_type": "execute_result"
    }
   ],
   "source": [
    "pokemones.find_all(2)"
   ]
  },
  {
   "cell_type": "code",
   "execution_count": null,
   "metadata": {},
   "outputs": [],
   "source": []
  }
 ],
 "metadata": {
  "kernelspec": {
   "display_name": "Python 3",
   "language": "python",
   "name": "python3"
  },
  "language_info": {
   "codemirror_mode": {
    "name": "ipython",
    "version": 3
   },
   "file_extension": ".py",
   "mimetype": "text/x-python",
   "name": "python",
   "nbconvert_exporter": "python",
   "pygments_lexer": "ipython3",
   "version": "3.7.6"
  }
 },
 "nbformat": 4,
 "nbformat_minor": 4
}
